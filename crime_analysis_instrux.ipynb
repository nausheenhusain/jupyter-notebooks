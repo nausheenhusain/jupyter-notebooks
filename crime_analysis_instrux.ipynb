{
 "cells": [
  {
   "cell_type": "markdown",
   "metadata": {},
   "source": [
    "# Weekly shooting numbers\n",
    "\n",
    "We need to run the script below to get the numbers to update [this page](http://www.chicagotribune.com/news/data/ct-shooting-victims-map-charts-htmlstory.html). When this script run from the same directory as wherever you download the shootings csv, the numbers you need to update the shootings page should be printed in your command line.\n",
    "\n",
    "You should follow along with [this ticket](https://tribune.unfuddle.com/a#/projects/46/tickets/by_number/1262) to fully understand what we're doing here."
   ]
  },
  {
   "cell_type": "markdown",
   "metadata": {},
   "source": [
    "### Step 1: download shootings csv from newsroomdb. Make sure it is saved on your Desktop (or just in the same directory as wherever this script will live)."
   ]
  },
  {
   "cell_type": "markdown",
   "metadata": {},
   "source": [
    "### Step 2: Let's make sure we can take a look at the data."
   ]
  },
  {
   "cell_type": "code",
   "execution_count": null,
   "metadata": {},
   "outputs": [],
   "source": [
    "# Below, you can import into this file the python libraries needed to do this analysis.\n",
    "import pandas as pd\n",
    "import numpy as np\n",
    "\n",
    "# This assigns the variable 'shootings' to the appropriate csv, which you should have downloaded already.\n",
    "# You can edit the following line to make sure it points to wherever the shootings csv lives on your machine.\n",
    "shootings = pd.read_csv('../Desktop/shootings.csv')\n",
    "# This allows you to look at the first 3 rows of the data.\n",
    "shootings[:3]"
   ]
  },
  {
   "cell_type": "code",
   "execution_count": null,
   "metadata": {
    "collapsed": true
   },
   "outputs": [],
   "source": [
    "# Let's look just at the first 10 rows of the 'Date' column.\n",
    "shootings['Date'][:10]"
   ]
  },
  {
   "cell_type": "markdown",
   "metadata": {},
   "source": [
    "### Step 3: Let's see how many rows we have in the 'Date' column."
   ]
  },
  {
   "cell_type": "code",
   "execution_count": null,
   "metadata": {
    "collapsed": true
   },
   "outputs": [],
   "source": [
    "# The 'count' method will tell us how many rows are in this entire dataset.\n",
    "# Our analyses for the purposes of the shootings page will focus on dates, so let's look at how many Date rows there are.\n",
    "shootings['Date'].count()"
   ]
  },
  {
   "cell_type": "markdown",
   "metadata": {},
   "source": [
    "### Step 4: Let's check out total shootings in 2016."
   ]
  },
  {
   "cell_type": "code",
   "execution_count": null,
   "metadata": {
    "collapsed": true
   },
   "outputs": [],
   "source": [
    "# Let's focus in on shootings from 2016. The 'startswith' method allows us to zero in on rows that start with \n",
    "# the year we want, and assign them to the variable 'shootings_2016'.\n",
    "shootings_2016 = shootings[shootings['Date'].str.startswith('2016', na=False)]\n",
    "# Now, let's count how many rows there are of shootings with 2016 dates.\n",
    "print \"There were\", shootings_2016['Date'].count(), \"shootings in 2016.\""
   ]
  },
  {
   "cell_type": "markdown",
   "metadata": {},
   "source": [
    "### Step 5: Let's check out total shootings so far in 2017."
   ]
  },
  {
   "cell_type": "code",
   "execution_count": null,
   "metadata": {
    "collapsed": true
   },
   "outputs": [],
   "source": [
    "# Now let's do the same thing for shootings in 2017.\n",
    "shootings_2017 = shootings[shootings['Date'].str.startswith('2017', na=False)]\n",
    "print \"There have been\", shootings_2017['Date'].count(), \"shootings in 2017 so far.\""
   ]
  },
  {
   "cell_type": "markdown",
   "metadata": {},
   "source": [
    "### For the shootings page, we want to focus in on how many shootings _within a certain time frame_ (until present day), which we now have for 2017. \n",
    "\n",
    "### Step 6: Let's try to find the shootings in each year before 2017 only from 1/1 to present day."
   ]
  },
  {
   "cell_type": "code",
   "execution_count": null,
   "metadata": {},
   "outputs": [],
   "source": [
    "# Everytime you update this data, you will need to change the ending date from '2016-05-30' to the current date.\n",
    "shootings_in_range_2016 = shootings_2016[(shootings['Date'] > '2016-01-01') & (shootings['Date'] <= '2016-06-19')]\n",
    "shootings_in_range_2015 = shootings[(shootings['Date'] > '2015-01-01') & (shootings['Date'] <= '2015-06-19')]\n",
    "shootings_in_range_2014 = shootings[(shootings['Date'] > '2014-01-01') & (shootings['Date'] <= '2014-06-19')]\n",
    "shootings_in_range_2013 = shootings[(shootings['Date'] > '2013-01-01') & (shootings['Date'] <= '2013-06-19')]\n",
    "shootings_in_range_2012 = shootings[(shootings['Date'] > '2012-01-01') & (shootings['Date'] <= '2012-06-19')]\n",
    "\n",
    "print (\"There were\", shootings_in_range_2016['Date'].count(), \"shootings between January 1 and present day in 2016.\")\n",
    "print (\"There were\", shootings_in_range_2015['Date'].count(), \"shootings between January 1 and present day in 2015.\")\n",
    "print (\"There were\", shootings_in_range_2014['Date'].count(), \"shootings between January 1 and present day in 2014.\")\n",
    "print (\"There were\", shootings_in_range_2013['Date'].count(), \"shootings between January 1 and present day in 2013.\")\n",
    "print (\"There were\", shootings_in_range_2012['Date'].count(), \"shootings between January 1 and present day in 2012.\")"
   ]
  },
  {
   "cell_type": "markdown",
   "metadata": {
    "collapsed": true
   },
   "source": [
    "### Step 7: The next thing we want to do is find out how many shootings there were _per month_ in 2017. "
   ]
  },
  {
   "cell_type": "code",
   "execution_count": null,
   "metadata": {
    "collapsed": true
   },
   "outputs": [],
   "source": [
    "# \"Date\" need some formatting. Some dates are 'None' or 'NaN' -- the try/except accounts for those.\n",
    "\n",
    "try:\n",
    "    shootings['Date'] = pd.to_datetime(shootings['Date'], errors='coerce')\n",
    "except:\n",
    "    pass"
   ]
  },
  {
   "cell_type": "code",
   "execution_count": null,
   "metadata": {
    "collapsed": true,
    "scrolled": true
   },
   "outputs": [],
   "source": [
    "# The next thing we need for the shootings page is an updated shootings breakdown by month for 2017.\n",
    "# One way to check if this is right, is to go to the current shootings page (linked at the top of this notebook),\n",
    "# and see if the numbers for January through May match, since those were done manually.\n",
    "shootings_by_month_2017 = shootings_2017.groupby([shootings['Date'].dt.year, shootings['Date'].dt.month])['Date'].count()\n",
    "# Below is how we change from numerals to months. As we progress through the months of 2017, you should add more months.\n",
    "shootings_by_month_2017.index = ['January','February','March','April','May','June']\n",
    "print \"Here are 2017 shootings by month:\", shootings_by_month_2017"
   ]
  },
  {
   "cell_type": "markdown",
   "metadata": {
    "collapsed": true
   },
   "source": [
    "### The next thing to do is check these numbers using something else, like Excel or csvkit. \n",
    "### We have [csvkit instructions here.](https://tribune.unfuddle.com/a#/projects/46/tickets/by_number/1264)"
   ]
  }
 ],
 "metadata": {
  "kernelspec": {
   "display_name": "Python 3",
   "language": "python",
   "name": "python3"
  },
  "language_info": {
   "codemirror_mode": {
    "name": "ipython",
    "version": 3
   },
   "file_extension": ".py",
   "mimetype": "text/x-python",
   "name": "python",
   "nbconvert_exporter": "python",
   "pygments_lexer": "ipython3",
   "version": "3.6.3"
  }
 },
 "nbformat": 4,
 "nbformat_minor": 1
}
